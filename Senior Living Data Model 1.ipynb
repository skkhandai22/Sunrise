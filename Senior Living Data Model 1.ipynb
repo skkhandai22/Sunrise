{
 "cells": [
  {
   "cell_type": "code",
   "execution_count": 36,
   "metadata": {},
   "outputs": [],
   "source": [
    "import numpy as np\n",
    "import pandas as pd\n",
    "import matplotlib.pyplot as plt\n",
    "import seaborn as sns\n",
    "from sklearn import model_selection\n",
    "from sklearn.linear_model import LogisticRegression\n",
    "from sklearn.tree import DecisionTreeClassifier\n",
    "from sklearn.neighbors import KNeighborsClassifier\n",
    "from sklearn.discriminant_analysis import LinearDiscriminantAnalysis\n",
    "from sklearn.naive_bayes import GaussianNB\n",
    "%matplotlib inline"
   ]
  },
  {
   "cell_type": "code",
   "execution_count": 15,
   "metadata": {},
   "outputs": [
    {
     "data": {
      "text/html": [
       "<div>\n",
       "<style scoped>\n",
       "    .dataframe tbody tr th:only-of-type {\n",
       "        vertical-align: middle;\n",
       "    }\n",
       "\n",
       "    .dataframe tbody tr th {\n",
       "        vertical-align: top;\n",
       "    }\n",
       "\n",
       "    .dataframe thead th {\n",
       "        text-align: right;\n",
       "    }\n",
       "</style>\n",
       "<table border=\"1\" class=\"dataframe\">\n",
       "  <thead>\n",
       "    <tr style=\"text-align: right;\">\n",
       "      <th></th>\n",
       "      <th>Distance</th>\n",
       "      <th>Pressure</th>\n",
       "      <th>HRV</th>\n",
       "      <th>Sugar level</th>\n",
       "      <th>SpO2</th>\n",
       "      <th>Accelerometer</th>\n",
       "      <th>Decision</th>\n",
       "    </tr>\n",
       "  </thead>\n",
       "  <tbody>\n",
       "    <tr>\n",
       "      <th>0</th>\n",
       "      <td>25.540</td>\n",
       "      <td>1.0</td>\n",
       "      <td>101.396</td>\n",
       "      <td>61.080</td>\n",
       "      <td>87.770</td>\n",
       "      <td>1.0</td>\n",
       "      <td>1</td>\n",
       "    </tr>\n",
       "    <tr>\n",
       "      <th>1</th>\n",
       "      <td>2.595</td>\n",
       "      <td>2.0</td>\n",
       "      <td>110.190</td>\n",
       "      <td>20.207</td>\n",
       "      <td>65.190</td>\n",
       "      <td>1.0</td>\n",
       "      <td>2</td>\n",
       "    </tr>\n",
       "    <tr>\n",
       "      <th>2</th>\n",
       "      <td>68.067</td>\n",
       "      <td>0.0</td>\n",
       "      <td>87.412</td>\n",
       "      <td>79.345</td>\n",
       "      <td>99.345</td>\n",
       "      <td>0.0</td>\n",
       "      <td>0</td>\n",
       "    </tr>\n",
       "    <tr>\n",
       "      <th>3</th>\n",
       "      <td>13.090</td>\n",
       "      <td>1.0</td>\n",
       "      <td>92.266</td>\n",
       "      <td>36.180</td>\n",
       "      <td>81.545</td>\n",
       "      <td>1.0</td>\n",
       "      <td>1</td>\n",
       "    </tr>\n",
       "    <tr>\n",
       "      <th>4</th>\n",
       "      <td>69.430</td>\n",
       "      <td>0.0</td>\n",
       "      <td>89.480</td>\n",
       "      <td>80.000</td>\n",
       "      <td>99.990</td>\n",
       "      <td>0.0</td>\n",
       "      <td>0</td>\n",
       "    </tr>\n",
       "  </tbody>\n",
       "</table>\n",
       "</div>"
      ],
      "text/plain": [
       "   Distance  Pressure      HRV  Sugar level    SpO2  Accelerometer  Decision \n",
       "0    25.540       1.0  101.396       61.080  87.770            1.0          1\n",
       "1     2.595       2.0  110.190       20.207  65.190            1.0          2\n",
       "2    68.067       0.0   87.412       79.345  99.345            0.0          0\n",
       "3    13.090       1.0   92.266       36.180  81.545            1.0          1\n",
       "4    69.430       0.0   89.480       80.000  99.990            0.0          0"
      ]
     },
     "execution_count": 15,
     "metadata": {},
     "output_type": "execute_result"
    }
   ],
   "source": [
    "data= pd.read_csv('cStick (1).csv')\n",
    "data.head()"
   ]
  },
  {
   "cell_type": "code",
   "execution_count": 16,
   "metadata": {},
   "outputs": [
    {
     "name": "stdout",
     "output_type": "stream",
     "text": [
      "<class 'pandas.core.frame.DataFrame'>\n",
      "RangeIndex: 2039 entries, 0 to 2038\n",
      "Data columns (total 7 columns):\n",
      " #   Column         Non-Null Count  Dtype  \n",
      "---  ------         --------------  -----  \n",
      " 0   Distance       2039 non-null   float64\n",
      " 1   Pressure       2039 non-null   float64\n",
      " 2   HRV            2039 non-null   float64\n",
      " 3   Sugar level    2039 non-null   float64\n",
      " 4   SpO2           2039 non-null   float64\n",
      " 5   Accelerometer  2039 non-null   float64\n",
      " 6   Decision       2039 non-null   int64  \n",
      "dtypes: float64(6), int64(1)\n",
      "memory usage: 111.6 KB\n"
     ]
    }
   ],
   "source": [
    "data.info()"
   ]
  },
  {
   "cell_type": "code",
   "execution_count": 17,
   "metadata": {},
   "outputs": [
    {
     "data": {
      "text/html": [
       "<div>\n",
       "<style scoped>\n",
       "    .dataframe tbody tr th:only-of-type {\n",
       "        vertical-align: middle;\n",
       "    }\n",
       "\n",
       "    .dataframe tbody tr th {\n",
       "        vertical-align: top;\n",
       "    }\n",
       "\n",
       "    .dataframe thead th {\n",
       "        text-align: right;\n",
       "    }\n",
       "</style>\n",
       "<table border=\"1\" class=\"dataframe\">\n",
       "  <thead>\n",
       "    <tr style=\"text-align: right;\">\n",
       "      <th></th>\n",
       "      <th>count</th>\n",
       "      <th>mean</th>\n",
       "      <th>std</th>\n",
       "      <th>min</th>\n",
       "      <th>25%</th>\n",
       "      <th>50%</th>\n",
       "      <th>75%</th>\n",
       "      <th>max</th>\n",
       "    </tr>\n",
       "  </thead>\n",
       "  <tbody>\n",
       "    <tr>\n",
       "      <th>Distance</th>\n",
       "      <td>2039.0</td>\n",
       "      <td>28.694527</td>\n",
       "      <td>23.773644</td>\n",
       "      <td>0.0</td>\n",
       "      <td>7.6425</td>\n",
       "      <td>20.560</td>\n",
       "      <td>55.2055</td>\n",
       "      <td>69.981</td>\n",
       "    </tr>\n",
       "    <tr>\n",
       "      <th>Pressure</th>\n",
       "      <td>2039.0</td>\n",
       "      <td>0.988720</td>\n",
       "      <td>0.815918</td>\n",
       "      <td>0.0</td>\n",
       "      <td>0.0000</td>\n",
       "      <td>1.000</td>\n",
       "      <td>2.0000</td>\n",
       "      <td>2.000</td>\n",
       "    </tr>\n",
       "    <tr>\n",
       "      <th>HRV</th>\n",
       "      <td>2039.0</td>\n",
       "      <td>95.657002</td>\n",
       "      <td>17.576499</td>\n",
       "      <td>60.0</td>\n",
       "      <td>82.4180</td>\n",
       "      <td>97.238</td>\n",
       "      <td>109.6950</td>\n",
       "      <td>124.980</td>\n",
       "    </tr>\n",
       "    <tr>\n",
       "      <th>Sugar level</th>\n",
       "      <td>2039.0</td>\n",
       "      <td>72.909243</td>\n",
       "      <td>46.940110</td>\n",
       "      <td>10.0</td>\n",
       "      <td>40.2300</td>\n",
       "      <td>69.960</td>\n",
       "      <td>77.6125</td>\n",
       "      <td>179.293</td>\n",
       "    </tr>\n",
       "    <tr>\n",
       "      <th>SpO2</th>\n",
       "      <td>2039.0</td>\n",
       "      <td>83.563649</td>\n",
       "      <td>11.111592</td>\n",
       "      <td>60.0</td>\n",
       "      <td>75.2850</td>\n",
       "      <td>85.280</td>\n",
       "      <td>92.6925</td>\n",
       "      <td>99.990</td>\n",
       "    </tr>\n",
       "    <tr>\n",
       "      <th>Accelerometer</th>\n",
       "      <td>2039.0</td>\n",
       "      <td>0.661599</td>\n",
       "      <td>0.473282</td>\n",
       "      <td>0.0</td>\n",
       "      <td>0.0000</td>\n",
       "      <td>1.000</td>\n",
       "      <td>1.0000</td>\n",
       "      <td>1.000</td>\n",
       "    </tr>\n",
       "    <tr>\n",
       "      <th>Decision</th>\n",
       "      <td>2039.0</td>\n",
       "      <td>0.988720</td>\n",
       "      <td>0.815918</td>\n",
       "      <td>0.0</td>\n",
       "      <td>0.0000</td>\n",
       "      <td>1.000</td>\n",
       "      <td>2.0000</td>\n",
       "      <td>2.000</td>\n",
       "    </tr>\n",
       "  </tbody>\n",
       "</table>\n",
       "</div>"
      ],
      "text/plain": [
       "                count       mean        std   min      25%     50%       75%  \\\n",
       "Distance       2039.0  28.694527  23.773644   0.0   7.6425  20.560   55.2055   \n",
       "Pressure       2039.0   0.988720   0.815918   0.0   0.0000   1.000    2.0000   \n",
       "HRV            2039.0  95.657002  17.576499  60.0  82.4180  97.238  109.6950   \n",
       "Sugar level    2039.0  72.909243  46.940110  10.0  40.2300  69.960   77.6125   \n",
       "SpO2           2039.0  83.563649  11.111592  60.0  75.2850  85.280   92.6925   \n",
       "Accelerometer  2039.0   0.661599   0.473282   0.0   0.0000   1.000    1.0000   \n",
       "Decision       2039.0   0.988720   0.815918   0.0   0.0000   1.000    2.0000   \n",
       "\n",
       "                   max  \n",
       "Distance        69.981  \n",
       "Pressure         2.000  \n",
       "HRV            124.980  \n",
       "Sugar level    179.293  \n",
       "SpO2            99.990  \n",
       "Accelerometer    1.000  \n",
       "Decision         2.000  "
      ]
     },
     "execution_count": 17,
     "metadata": {},
     "output_type": "execute_result"
    }
   ],
   "source": [
    "data.describe().T"
   ]
  },
  {
   "cell_type": "code",
   "execution_count": 18,
   "metadata": {},
   "outputs": [
    {
     "data": {
      "text/plain": [
       "Distance         0\n",
       "Pressure         0\n",
       "HRV              0\n",
       "Sugar level      0\n",
       "SpO2             0\n",
       "Accelerometer    0\n",
       "Decision         0\n",
       "dtype: int64"
      ]
     },
     "execution_count": 18,
     "metadata": {},
     "output_type": "execute_result"
    }
   ],
   "source": [
    "data.isnull().sum()"
   ]
  },
  {
   "cell_type": "code",
   "execution_count": 93,
   "metadata": {},
   "outputs": [
    {
     "name": "stdout",
     "output_type": "stream",
     "text": [
      "[1. 0.]\n"
     ]
    }
   ],
   "source": [
    "print(data['Accelerometer'].unique())"
   ]
  },
  {
   "cell_type": "code",
   "execution_count": 19,
   "metadata": {},
   "outputs": [
    {
     "data": {
      "text/plain": [
       "<AxesSubplot:xlabel='Distance'>"
      ]
     },
     "execution_count": 19,
     "metadata": {},
     "output_type": "execute_result"
    },
    {
     "data": {
      "image/png": "[encoded data removed]",
      "text/plain": [
       "<Figure size 640x480 with 1 Axes>"
      ]
     },
     "metadata": {},
     "output_type": "display_data"
    }
   ],
   "source": [
    "sns.boxplot(x=data['Distance'])"
   ]
  },
  {
   "cell_type": "code",
   "execution_count": 20,
   "metadata": {},
   "outputs": [
    {
     "data": {
      "text/plain": [
       "<AxesSubplot:xlabel='Pressure'>"
      ]
     },
     "execution_count": 20,
     "metadata": {},
     "output_type": "execute_result"
    },
    {
     "data": {
      "image/png": "[encoded data removed]",
      "text/plain": [
       "<Figure size 640x480 with 1 Axes>"
      ]
     },
     "metadata": {},
     "output_type": "display_data"
    }
   ],
   "source": [
    "sns.boxplot(x=data['Pressure'])"
   ]
  },
  {
   "cell_type": "code",
   "execution_count": 21,
   "metadata": {},
   "outputs": [
    {
     "data": {
      "text/plain": [
       "<AxesSubplot:xlabel='HRV'>"
      ]
     },
     "execution_count": 21,
     "metadata": {},
     "output_type": "execute_result"
    },
    {
     "data": {
      "image/png": "[encoded data removed]",
      "text/plain": [
       "<Figure size 640x480 with 1 Axes>"
      ]
     },
     "metadata": {},
     "output_type": "display_data"
    }
   ],
   "source": [
    "sns.boxplot(x=data['HRV'])"
   ]
  },
  {
   "cell_type": "code",
   "execution_count": 22,
   "metadata": {},
   "outputs": [
    {
     "data": {
      "text/plain": [
       "<AxesSubplot:xlabel='Sugar level'>"
      ]
     },
     "execution_count": 22,
     "metadata": {},
     "output_type": "execute_result"
    },
    {
     "data": {
      "image/png": "[encoded data removed]",
      "text/plain": [
       "<Figure size 640x480 with 1 Axes>"
      ]
     },
     "metadata": {},
     "output_type": "display_data"
    }
   ],
   "source": [
    "sns.boxplot(x=data['Sugar level'])"
   ]
  },
  {
   "cell_type": "code",
   "execution_count": 23,
   "metadata": {},
   "outputs": [
    {
     "data": {
      "text/plain": [
       "<AxesSubplot:xlabel='SpO2'>"
      ]
     },
     "execution_count": 23,
     "metadata": {},
     "output_type": "execute_result"
    },
    {
     "data": {
      "image/png": "[encoded data removed]",
      "text/plain": [
       "<Figure size 640x480 with 1 Axes>"
      ]
     },
     "metadata": {},
     "output_type": "display_data"
    }
   ],
   "source": [
    "sns.boxplot(x=data['SpO2'])"
   ]
  },
  {
   "cell_type": "code",
   "execution_count": 24,
   "metadata": {},
   "outputs": [
    {
     "data": {
      "text/plain": [
       "<AxesSubplot:xlabel='Accelerometer'>"
      ]
     },
     "execution_count": 24,
     "metadata": {},
     "output_type": "execute_result"
    },
    {
     "data": {
      "image/png": "[encoded data removed]",
      "text/plain": [
       "<Figure size 640x480 with 1 Axes>"
      ]
     },
     "metadata": {},
     "output_type": "display_data"
    }
   ],
   "source": [
    "sns.boxplot(x=data['Accelerometer'])"
   ]
  },
  {
   "cell_type": "code",
   "execution_count": 25,
   "metadata": {},
   "outputs": [
    {
     "data": {
      "text/plain": [
       "<AxesSubplot:xlabel='Decision '>"
      ]
     },
     "execution_count": 25,
     "metadata": {},
     "output_type": "execute_result"
    },
    {
     "data": {
      "image/png": "[encoded data removed]",
      "text/plain": [
       "<Figure size 640x480 with 1 Axes>"
      ]
     },
     "metadata": {},
     "output_type": "display_data"
    }
   ],
   "source": [
    "sns.boxplot(x=data['Decision '])"
   ]
  },
  {
   "cell_type": "code",
   "execution_count": 27,
   "metadata": {},
   "outputs": [
    {
     "data": {
      "text/plain": [
       "0    690\n",
       "1    682\n",
       "2    667\n",
       "Name: Decision , dtype: int64"
      ]
     },
     "execution_count": 27,
     "metadata": {},
     "output_type": "execute_result"
    }
   ],
   "source": [
    "data['Decision '].value_counts()"
   ]
  },
  {
   "cell_type": "code",
   "execution_count": 28,
   "metadata": {},
   "outputs": [],
   "source": [
    "q1=data['Sugar level'].quantile(0.25)\n",
    "q2=data['Sugar level'].quantile(0.50)\n",
    "q3=data['Sugar level'].quantile(0.75)\n",
    "iqr=q3-q1\n",
    "iqr\n",
    "\n",
    "\n",
    "upper_limit=q3+1.5*iqr\n",
    "lower_limit=q1-1.5*iqr\n",
    "upper_limit,lower_limit\n",
    "\n",
    "\n",
    "#replacing upper values with upper limit and lower values with lower limit\n",
    "def limit_imputer(value):\n",
    "    if value > upper_limit:\n",
    "        return upper_limit\n",
    "    if value < lower_limit:\n",
    "        return lower_limit\n",
    "    else:\n",
    "        return value\n",
    "\n",
    "data['Sugar level'] = data['Sugar level'].apply(limit_imputer)"
   ]
  },
  {
   "cell_type": "code",
   "execution_count": 30,
   "metadata": {},
   "outputs": [
    {
     "data": {
      "text/plain": [
       "<AxesSubplot:xlabel='Sugar level'>"
      ]
     },
     "execution_count": 30,
     "metadata": {},
     "output_type": "execute_result"
    },
    {
     "data": {
      "image/png": "[encoded data removed]",
      "text/plain": [
       "<Figure size 640x480 with 1 Axes>"
      ]
     },
     "metadata": {},
     "output_type": "display_data"
    }
   ],
   "source": [
    "sns.boxplot(x=data['Sugar level'])"
   ]
  },
  {
   "cell_type": "code",
   "execution_count": 31,
   "metadata": {},
   "outputs": [
    {
     "data": {
      "text/html": [
       "<div>\n",
       "<style scoped>\n",
       "    .dataframe tbody tr th:only-of-type {\n",
       "        vertical-align: middle;\n",
       "    }\n",
       "\n",
       "    .dataframe tbody tr th {\n",
       "        vertical-align: top;\n",
       "    }\n",
       "\n",
       "    .dataframe thead th {\n",
       "        text-align: right;\n",
       "    }\n",
       "</style>\n",
       "<table border=\"1\" class=\"dataframe\">\n",
       "  <thead>\n",
       "    <tr style=\"text-align: right;\">\n",
       "      <th></th>\n",
       "      <th>Distance</th>\n",
       "      <th>Pressure</th>\n",
       "      <th>HRV</th>\n",
       "      <th>Sugar level</th>\n",
       "      <th>SpO2</th>\n",
       "      <th>Accelerometer</th>\n",
       "    </tr>\n",
       "  </thead>\n",
       "  <tbody>\n",
       "    <tr>\n",
       "      <th>0</th>\n",
       "      <td>25.540</td>\n",
       "      <td>1.0</td>\n",
       "      <td>101.396</td>\n",
       "      <td>61.080</td>\n",
       "      <td>87.770</td>\n",
       "      <td>1.0</td>\n",
       "    </tr>\n",
       "    <tr>\n",
       "      <th>1</th>\n",
       "      <td>2.595</td>\n",
       "      <td>2.0</td>\n",
       "      <td>110.190</td>\n",
       "      <td>20.207</td>\n",
       "      <td>65.190</td>\n",
       "      <td>1.0</td>\n",
       "    </tr>\n",
       "    <tr>\n",
       "      <th>2</th>\n",
       "      <td>68.067</td>\n",
       "      <td>0.0</td>\n",
       "      <td>87.412</td>\n",
       "      <td>79.345</td>\n",
       "      <td>99.345</td>\n",
       "      <td>0.0</td>\n",
       "    </tr>\n",
       "    <tr>\n",
       "      <th>3</th>\n",
       "      <td>13.090</td>\n",
       "      <td>1.0</td>\n",
       "      <td>92.266</td>\n",
       "      <td>36.180</td>\n",
       "      <td>81.545</td>\n",
       "      <td>1.0</td>\n",
       "    </tr>\n",
       "    <tr>\n",
       "      <th>4</th>\n",
       "      <td>69.430</td>\n",
       "      <td>0.0</td>\n",
       "      <td>89.480</td>\n",
       "      <td>80.000</td>\n",
       "      <td>99.990</td>\n",
       "      <td>0.0</td>\n",
       "    </tr>\n",
       "  </tbody>\n",
       "</table>\n",
       "</div>"
      ],
      "text/plain": [
       "   Distance  Pressure      HRV  Sugar level    SpO2  Accelerometer\n",
       "0    25.540       1.0  101.396       61.080  87.770            1.0\n",
       "1     2.595       2.0  110.190       20.207  65.190            1.0\n",
       "2    68.067       0.0   87.412       79.345  99.345            0.0\n",
       "3    13.090       1.0   92.266       36.180  81.545            1.0\n",
       "4    69.430       0.0   89.480       80.000  99.990            0.0"
      ]
     },
     "execution_count": 31,
     "metadata": {},
     "output_type": "execute_result"
    }
   ],
   "source": [
    "X= data.drop('Decision ',axis=1)\n",
    "X.head()"
   ]
  },
  {
   "cell_type": "code",
   "execution_count": 32,
   "metadata": {},
   "outputs": [
    {
     "data": {
      "text/html": [
       "<div>\n",
       "<style scoped>\n",
       "    .dataframe tbody tr th:only-of-type {\n",
       "        vertical-align: middle;\n",
       "    }\n",
       "\n",
       "    .dataframe tbody tr th {\n",
       "        vertical-align: top;\n",
       "    }\n",
       "\n",
       "    .dataframe thead th {\n",
       "        text-align: right;\n",
       "    }\n",
       "</style>\n",
       "<table border=\"1\" class=\"dataframe\">\n",
       "  <thead>\n",
       "    <tr style=\"text-align: right;\">\n",
       "      <th></th>\n",
       "      <th>Decision</th>\n",
       "    </tr>\n",
       "  </thead>\n",
       "  <tbody>\n",
       "    <tr>\n",
       "      <th>0</th>\n",
       "      <td>1</td>\n",
       "    </tr>\n",
       "    <tr>\n",
       "      <th>1</th>\n",
       "      <td>2</td>\n",
       "    </tr>\n",
       "    <tr>\n",
       "      <th>2</th>\n",
       "      <td>0</td>\n",
       "    </tr>\n",
       "    <tr>\n",
       "      <th>3</th>\n",
       "      <td>1</td>\n",
       "    </tr>\n",
       "    <tr>\n",
       "      <th>4</th>\n",
       "      <td>0</td>\n",
       "    </tr>\n",
       "  </tbody>\n",
       "</table>\n",
       "</div>"
      ],
      "text/plain": [
       "   Decision \n",
       "0          1\n",
       "1          2\n",
       "2          0\n",
       "3          1\n",
       "4          0"
      ]
     },
     "execution_count": 32,
     "metadata": {},
     "output_type": "execute_result"
    }
   ],
   "source": [
    "Y= data[['Decision ']]\n",
    "Y.head()"
   ]
  },
  {
   "cell_type": "code",
   "execution_count": 34,
   "metadata": {},
   "outputs": [
    {
     "data": {
      "text/plain": [
       "((1631, 6), (408, 6), (1631, 1), (408, 1))"
      ]
     },
     "execution_count": 34,
     "metadata": {},
     "output_type": "execute_result"
    }
   ],
   "source": [
    "from sklearn.model_selection import train_test_split as tts\n",
    "X_train,X_test,Y_train,Y_test = tts(X,Y,test_size=0.20,random_state=42)\n",
    "X_train.shape, X_test.shape, Y_train.shape, Y_test.shape"
   ]
  },
  {
   "cell_type": "code",
   "execution_count": 42,
   "metadata": {},
   "outputs": [],
   "source": [
    "# seed = 7\n",
    "# models = []\n",
    "# models.append(('LR', LogisticRegression()))\n",
    "# models.append(('LDA', LinearDiscriminantAnalysis()))\n",
    "# models.append(('KNN', KNeighborsClassifier()))\n",
    "# models.append(('CART', DecisionTreeClassifier()))\n",
    "# models.append(('NB', GaussianNB()))\n",
    "# models.append(('SVM', SVC()))"
   ]
  },
  {
   "cell_type": "code",
   "execution_count": 43,
   "metadata": {},
   "outputs": [],
   "source": [
    "# results = []\n",
    "# names = []\n",
    "# scoring = 'accuracy'\n",
    "# for name, model in models:\n",
    "#  kfold = model_selection.KFold(n_splits=10, shuffle= True,random_state=seed)\n",
    "#  cv_results = model_selection.cross_val_score(model, X_train, Y_train, cv=kfold, scoring=scoring)\n",
    "#  results.append(cv_results)\n",
    "#  names.append(name)\n",
    "#  msg = \"%s: %f (%f)\" % (name, cv_results.mean(), cv_results.std())\n",
    "#  print(msg)\n",
    "# # boxplot algorithm comparison\n",
    "# fig = plt.figure()\n",
    "# fig.suptitle('Algorithm Comparison')\n",
    "# ax = fig.add_subplot(111)\n",
    "# plt.boxplot(results)\n",
    "# ax.set_xticklabels(names)\n",
    "# plt.show()"
   ]
  },
  {
   "cell_type": "code",
   "execution_count": 66,
   "metadata": {},
   "outputs": [
    {
     "name": "stdout",
     "output_type": "stream",
     "text": [
      "Accuracy: 100.0\n"
     ]
    },
    {
     "name": "stderr",
     "output_type": "stream",
     "text": [
      "c:\\Users\\16373\\AppData\\Local\\Programs\\Python\\Python310\\lib\\site-packages\\sklearn\\utils\\validation.py:1111: DataConversionWarning: A column-vector y was passed when a 1d array was expected. Please change the shape of y to (n_samples, ), for example using ravel().\n",
      "  y = column_or_1d(y, warn=True)\n"
     ]
    }
   ],
   "source": [
    "from sklearn.svm import SVC\n",
    "from sklearn.metrics import accuracy_score\n",
    "\n",
    "model=SVC(kernel='poly', C=100.0) \n",
    "model.fit(X_train,Y_train)\n",
    "\n",
    "y_pred=model.predict(X_test)\n",
    "\n",
    "print('Accuracy:' ,accuracy_score(Y_test, y_pred)*100)\n"
   ]
  },
  {
   "cell_type": "code",
   "execution_count": 70,
   "metadata": {},
   "outputs": [
    {
     "name": "stdout",
     "output_type": "stream",
     "text": [
      "              precision    recall  f1-score   support\n",
      "\n",
      "           0       1.00      1.00      1.00       142\n",
      "           1       1.00      1.00      1.00       128\n",
      "           2       1.00      1.00      1.00       138\n",
      "\n",
      "    accuracy                           1.00       408\n",
      "   macro avg       1.00      1.00      1.00       408\n",
      "weighted avg       1.00      1.00      1.00       408\n",
      "\n"
     ]
    }
   ],
   "source": [
    "from sklearn.metrics import classification_report\n",
    "\n",
    "print(classification_report(Y_test, y_pred))"
   ]
  },
  {
   "cell_type": "code",
   "execution_count": 83,
   "metadata": {},
   "outputs": [
    {
     "name": "stdout",
     "output_type": "stream",
     "text": [
      "Confusion matrix\n",
      "\n",
      " [[142   0   0]\n",
      " [  0 128   0]\n",
      " [  0   0 138]]\n"
     ]
    },
    {
     "data": {
      "image/png": "[encoded data removed]",
      "text/plain": [
       "<Figure size 1000x500 with 2 Axes>"
      ]
     },
     "metadata": {},
     "output_type": "display_data"
    }
   ],
   "source": [
    "from sklearn.metrics import confusion_matrix\n",
    "\n",
    "cm = confusion_matrix(Y_test, y_pred)\n",
    "\n",
    "print('Confusion matrix\\n\\n', cm)\n",
    "\n",
    "cm_df = pd.DataFrame(cm,\n",
    "                     index = ['0','1','2'], \n",
    "                     columns = ['0','1','2'])\n",
    "plt.figure(figsize=(10,5))\n",
    "sns.heatmap(cm_df,annot=True,fmt='d')\n",
    "plt.title('Confusion Matrix')\n",
    "plt.ylabel('Actual Values')\n",
    "plt.xlabel('Predicted Values')\n",
    "plt.show()\n"
   ]
  },
  {
   "cell_type": "code",
   "execution_count": 84,
   "metadata": {},
   "outputs": [
    {
     "name": "stdout",
     "output_type": "stream",
     "text": [
      "[1]\n"
     ]
    },
    {
     "name": "stderr",
     "output_type": "stream",
     "text": [
      "c:\\Users\\16373\\AppData\\Local\\Programs\\Python\\Python310\\lib\\site-packages\\sklearn\\base.py:450: UserWarning: X does not have valid feature names, but SVC was fitted with feature names\n",
      "  warnings.warn(\n"
     ]
    }
   ],
   "source": [
    "print(model.predict([[25,1,100,60,87,1]]))"
   ]
  },
  {
   "cell_type": "code",
   "execution_count": 87,
   "metadata": {},
   "outputs": [],
   "source": [
    "import pickle\n",
    "pickle.dump(model,open(\"model.pkl\",\"wb\"))"
   ]
  },
  {
   "cell_type": "code",
   "execution_count": null,
   "metadata": {},
   "outputs": [],
   "source": []
  }
 ],
 "metadata": {
  "kernelspec": {
   "display_name": "Python 3.10.8 64-bit",
   "language": "python",
   "name": "python3"
  },
  "language_info": {
   "codemirror_mode": {
    "name": "ipython",
    "version": 3
   },
   "file_extension": ".py",
   "mimetype": "text/x-python",
   "name": "python",
   "nbconvert_exporter": "python",
   "pygments_lexer": "ipython3",
   "version": "3.10.8 (tags/v3.10.8:aaaf517, Oct 11 2022, 16:50:30) [MSC v.1933 64 bit (AMD64)]"
  },
  "orig_nbformat": 4,
  "vscode": {
   "interpreter": {
    "hash": "0a67920f40d2b9c5d8a8ba9246c61cfe71ea2addea60ed4d42f69b3c2e4bc00e"
   }
  }
 },
 "nbformat": 4,
 "nbformat_minor": 2
}
